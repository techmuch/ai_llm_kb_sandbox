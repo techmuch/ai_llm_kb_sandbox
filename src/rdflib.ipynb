{
 "cells": [
  {
   "cell_type": "code",
   "execution_count": 4,
   "id": "14c14c2e-138e-453c-bff8-0e167d16dd45",
   "metadata": {},
   "outputs": [],
   "source": [
    "from rdflib import Graph, Literal, RDF, URIRef, Namespace\n",
    "from rdflib.namespace import FOAF, XSD"
   ]
  },
  {
   "cell_type": "code",
   "execution_count": 5,
   "id": "43062440-4be0-4ef1-9b70-310c08fc65c6",
   "metadata": {},
   "outputs": [
    {
     "name": "stdout",
     "output_type": "stream",
     "text": [
      "--- printing raw triples ---\n",
      "(rdflib.term.URIRef('http://example.org/donna'), rdflib.term.URIRef('http://www.w3.org/1999/02/22-rdf-syntax-ns#type'), rdflib.term.URIRef('http://xmlns.com/foaf/0.1/Person'))\n",
      "(rdflib.term.URIRef('http://example.org/edward'), rdflib.term.URIRef('http://xmlns.com/foaf/0.1/nick'), rdflib.term.Literal('ed', datatype=rdflib.term.URIRef('http://www.w3.org/2001/XMLSchema#string')))\n",
      "(rdflib.term.URIRef('http://example.org/donna'), rdflib.term.URIRef('http://xmlns.com/foaf/0.1/name'), rdflib.term.Literal('Donna Fales'))\n",
      "(rdflib.term.URIRef('http://example.org/edward'), rdflib.term.URIRef('http://xmlns.com/foaf/0.1/mbox'), rdflib.term.Literal('e.scissorhands@example.org', datatype=rdflib.term.URIRef('http://www.w3.org/2001/XMLSchema#anyURI')))\n",
      "(rdflib.term.URIRef('http://example.org/donna'), rdflib.term.URIRef('http://xmlns.com/foaf/0.1/nick'), rdflib.term.Literal('donna', lang='en'))\n",
      "(rdflib.term.URIRef('http://example.org/edward'), rdflib.term.URIRef('http://www.w3.org/1999/02/22-rdf-syntax-ns#type'), rdflib.term.URIRef('http://xmlns.com/foaf/0.1/Person'))\n",
      "(rdflib.term.URIRef('http://example.org/donna'), rdflib.term.URIRef('http://xmlns.com/foaf/0.1/mbox'), rdflib.term.URIRef('mailto:donna@example.org'))\n",
      "(rdflib.term.URIRef('http://example.org/edward'), rdflib.term.URIRef('http://xmlns.com/foaf/0.1/name'), rdflib.term.Literal('Edward Scissorhands'))\n",
      "--- printing mboxes ---\n",
      "mailto:donna@example.org\n",
      "e.scissorhands@example.org\n",
      "--- printing mboxes ---\n",
      "@prefix foaf: <http://xmlns.com/foaf/0.1/> .\n",
      "@prefix xsd: <http://www.w3.org/2001/XMLSchema#> .\n",
      "\n",
      "<http://example.org/donna> a foaf:Person ;\n",
      "    foaf:mbox <mailto:donna@example.org> ;\n",
      "    foaf:name \"Donna Fales\" ;\n",
      "    foaf:nick \"donna\"@en .\n",
      "\n",
      "<http://example.org/edward> a foaf:Person ;\n",
      "    foaf:mbox \"e.scissorhands@example.org\"^^xsd:anyURI ;\n",
      "    foaf:name \"Edward Scissorhands\" ;\n",
      "    foaf:nick \"ed\"^^xsd:string .\n",
      "\n",
      "\n"
     ]
    }
   ],
   "source": [
    "g = Graph()\n",
    "# Create an RDF URI nodes to use as the subject for multiple triples\n",
    "wifi = URIRef(\"https://www.wikidata.org/wiki/Q29643\")\n",
    "wap = URIRef(\"https://www.wikidata.org/wiki/Q326717\")\n",
    "switch = URIRef(\"https://www.wikidata.org/wiki/Q4503\")\n",
    "poe = URIRef(\"https://www.wikidata.org/wiki/Q831858\")\n",
    "\n",
    "# Add triples using store's add() method.\n",
    "g.add((switch, RDF., FOAF.Person))\n",
    "g.add((donna, FOAF.nick, Literal(\"donna\", lang=\"en\")))\n",
    "g.add((donna, FOAF.name, Literal(\"Donna Fales\")))\n",
    "g.add((donna, FOAF.mbox, URIRef(\"mailto:donna@example.org\")))\n",
    "\n",
    "# Add another person\n",
    "ed = URIRef(\"http://example.org/edward\")\n",
    "\n",
    "# Add triples using store's add() method.\n",
    "g.add((ed, RDF.type, FOAF.Person))\n",
    "g.add((ed, FOAF.nick, Literal(\"ed\", datatype=XSD.string)))\n",
    "g.add((ed, FOAF.name, Literal(\"Edward Scissorhands\")))\n",
    "g.add((ed, FOAF.mbox, Literal(\"e.scissorhands@example.org\", datatype=XSD.anyURI)))\n",
    "\n",
    "# Iterate over triples in store and print them out.\n",
    "print(\"--- printing raw triples ---\")\n",
    "for s, p, o in g:\n",
    "    print((s, p, o))\n",
    "\n",
    "# For each foaf:Person in the store, print out their mbox property's value.\n",
    "print(\"--- printing mboxes ---\")\n",
    "for person in g.subjects(RDF.type, FOAF.Person):\n",
    "    for mbox in g.objects(person, FOAF.mbox):\n",
    "        print(mbox)\n",
    "\n",
    "# Bind the FOAF namespace to a prefix for more readable output\n",
    "g.bind(\"foaf\", FOAF)\n",
    "\n",
    "# print all the data in the Notation3 format\n",
    "print(\"--- printing mboxes ---\")\n",
    "print(g.serialize(format='n3'))"
   ]
  },
  {
   "cell_type": "code",
   "execution_count": 8,
   "id": "d6ebaf0d-cc89-44c7-a574-2ac3ae851c5a",
   "metadata": {},
   "outputs": [
    {
     "name": "stdout",
     "output_type": "stream",
     "text": [
      "[\n",
      "  {\n",
      "    \"@id\": \"http://example.org/donna\",\n",
      "    \"@type\": [\n",
      "      \"http://xmlns.com/foaf/0.1/Person\"\n",
      "    ],\n",
      "    \"http://xmlns.com/foaf/0.1/mbox\": [\n",
      "      {\n",
      "        \"@id\": \"mailto:donna@example.org\"\n",
      "      }\n",
      "    ],\n",
      "    \"http://xmlns.com/foaf/0.1/name\": [\n",
      "      {\n",
      "        \"@value\": \"Donna Fales\"\n",
      "      }\n",
      "    ],\n",
      "    \"http://xmlns.com/foaf/0.1/nick\": [\n",
      "      {\n",
      "        \"@language\": \"en\",\n",
      "        \"@value\": \"donna\"\n",
      "      }\n",
      "    ]\n",
      "  },\n",
      "  {\n",
      "    \"@id\": \"http://example.org/edward\",\n",
      "    \"@type\": [\n",
      "      \"http://xmlns.com/foaf/0.1/Person\"\n",
      "    ],\n",
      "    \"http://xmlns.com/foaf/0.1/mbox\": [\n",
      "      {\n",
      "        \"@type\": \"http://www.w3.org/2001/XMLSchema#anyURI\",\n",
      "        \"@value\": \"e.scissorhands@example.org\"\n",
      "      }\n",
      "    ],\n",
      "    \"http://xmlns.com/foaf/0.1/name\": [\n",
      "      {\n",
      "        \"@value\": \"Edward Scissorhands\"\n",
      "      }\n",
      "    ],\n",
      "    \"http://xmlns.com/foaf/0.1/nick\": [\n",
      "      {\n",
      "        \"@value\": \"ed\"\n",
      "      }\n",
      "    ]\n",
      "  }\n",
      "]\n"
     ]
    }
   ],
   "source": [
    "print(g.serialize(format='json-ld'))"
   ]
  }
 ],
 "metadata": {
  "kernelspec": {
   "display_name": "Python 3 (ipykernel)",
   "language": "python",
   "name": "python3"
  },
  "language_info": {
   "codemirror_mode": {
    "name": "ipython",
    "version": 3
   },
   "file_extension": ".py",
   "mimetype": "text/x-python",
   "name": "python",
   "nbconvert_exporter": "python",
   "pygments_lexer": "ipython3",
   "version": "3.9.6"
  }
 },
 "nbformat": 4,
 "nbformat_minor": 5
}
