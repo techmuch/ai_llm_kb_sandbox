{
 "cells": [
  {
   "cell_type": "code",
   "execution_count": 2,
   "id": "8a002808-b7b3-409e-921c-3e45a02ce213",
   "metadata": {},
   "outputs": [
    {
     "name": "stderr",
     "output_type": "stream",
     "text": [
      "100%|█████████████████████████████████████████████████████████████████████████████████████████████████| 4.85G/4.85G [02:20<00:00, 34.5MiB/s]\n"
     ]
    },
    {
     "name": "stdout",
     "output_type": "stream",
     "text": [
      "Model downloaded at:  /Users/df115/.cache/gpt4all/ggml-mpt-7b-instruct.bin\n",
      "mpt_model_load: loading model from '/Users/df115/.cache/gpt4all/ggml-mpt-7b-instruct.bin' - please wait ...\n",
      "mpt_model_load: n_vocab        = 50432\n",
      "mpt_model_load: n_ctx          = 2048\n",
      "mpt_model_load: n_embd         = 4096\n",
      "mpt_model_load: n_head         = 32\n",
      "mpt_model_load: n_layer        = 32\n",
      "mpt_model_load: alibi_bias_max = 8.000000\n",
      "mpt_model_load: clip_qkv       = 0.000000\n",
      "mpt_model_load: ftype          = 2\n",
      "mpt_model_load: ggml ctx size = 5653.09 MB\n",
      "mpt_model_load: kv self size  = 1024.00 MB\n",
      "mpt_model_load: ........................ done\n",
      "mpt_model_load: model size =  4629.02 MB / num tensors = 194\n",
      "### Instruction: \n",
      "            The prompt below is a question to answer, a task to complete, or a conversation \n",
      "            to respond to; decide which and write an appropriate response.\n",
      "            \n",
      "### Prompt: \n",
      "Name 3 colors\n",
      "### Response:\n",
      "  Blue, Green and Yellow\n"
     ]
    },
    {
     "data": {
      "text/plain": [
       "{'model': 'ggml-mpt-7b-instruct',\n",
       " 'usage': {'prompt_tokens': 239, 'completion_tokens': 24, 'total_tokens': 263},\n",
       " 'choices': [{'message': {'role': 'assistant',\n",
       "    'content': '  Blue, Green and Yellow'}}]}"
      ]
     },
     "execution_count": 2,
     "metadata": {},
     "output_type": "execute_result"
    }
   ],
   "source": [
    "from gpt4all import GPT4All\n",
    "\n",
    "gptj = GPT4All(\"ggml-mpt-7b-instruct\")\n",
    "messages = [{\"role\": \"user\", \"content\": \"Name 3 colors\"}]\n",
    "gptj.chat_completion(messages)"
   ]
  },
  {
   "cell_type": "code",
   "execution_count": null,
   "id": "48015174-f42d-49eb-baec-25da651a85db",
   "metadata": {},
   "outputs": [],
   "source": []
  }
 ],
 "metadata": {
  "kernelspec": {
   "display_name": "Python 3 (ipykernel)",
   "language": "python",
   "name": "python3"
  },
  "language_info": {
   "codemirror_mode": {
    "name": "ipython",
    "version": 3
   },
   "file_extension": ".py",
   "mimetype": "text/x-python",
   "name": "python",
   "nbconvert_exporter": "python",
   "pygments_lexer": "ipython3",
   "version": "3.9.6"
  }
 },
 "nbformat": 4,
 "nbformat_minor": 5
}
