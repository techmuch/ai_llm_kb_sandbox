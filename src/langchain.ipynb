{
 "cells": [
  {
   "cell_type": "code",
   "execution_count": 1,
   "id": "308825e8-2181-4f65-be9d-46d441679c12",
   "metadata": {},
   "outputs": [],
   "source": [
    "from langchain.llms import GPT4All"
   ]
  },
  {
   "cell_type": "code",
   "execution_count": 2,
   "id": "f2edb7fc-c6eb-4b17-955f-9da9f2814837",
   "metadata": {},
   "outputs": [
    {
     "name": "stdout",
     "output_type": "stream",
     "text": [
      "Found model file at  /Users/df115/.cache/gpt4all/ggml-mpt-7b-instruct.bin\n",
      "mpt_model_load: loading model from '/Users/df115/.cache/gpt4all/ggml-mpt-7b-instruct.bin' - please wait ...\n",
      "mpt_model_load: n_vocab        = 50432\n",
      "mpt_model_load: n_ctx          = 2048\n",
      "mpt_model_load: n_embd         = 4096\n",
      "mpt_model_load: n_head         = 32\n",
      "mpt_model_load: n_layer        = 32\n",
      "mpt_model_load: alibi_bias_max = 8.000000\n",
      "mpt_model_load: clip_qkv       = 0.000000\n",
      "mpt_model_load: ftype          = 2\n",
      "mpt_model_load: ggml ctx size = 5653.09 MB\n",
      "mpt_model_load: kv self size  = 1024.00 MB\n",
      "mpt_model_load: ........................ done\n",
      "mpt_model_load: model size =  4629.02 MB / num tensors = 194\n"
     ]
    }
   ],
   "source": [
    "model = GPT4All(\n",
    "    model=\"/Users/df115/.cache/gpt4all/ggml-mpt-7b-instruct.bin\",\n",
    "    n_ctx=2048,\n",
    "    n_threads=8\n",
    ")"
   ]
  },
  {
   "cell_type": "code",
   "execution_count": 3,
   "id": "b250a870-3a44-4883-a59d-413e4a5f1e1c",
   "metadata": {},
   "outputs": [
    {
     "name": "stdout",
     "output_type": "stream",
     "text": [
      "..........there was an Indian village by the name of Ganeshpur. It had three streets, and all roads led to Kale's shop (the sweetmeat store). The place abounded in sweets shops like Patil’s Sweet Shop or Tawde Sweetery along with many other stores for milk products, clothes etc which was an indication of a thriving business environment.A small boy named Ramu lived there and used to help his father who ran the sweetmeat shop. His mother had passed away at birth itself so he looked after himself well as all tasks were given by him in family from very young age! So being alone, it was double responsibility for a child of 5 years old. He would wake up early around 4 AM everyday and start preparing sweets to be sold the next day. As Ramu’s father ran out many varieties on his own including special items ordered through courier by their regular customers like Maa-Baap or Kaka -Mama etc from far off places! They used make so much of goodies that they often had stock for several days.Now, one day morning a stranger came to the shop and started asking sweetmeat names in Marathi as he couldn’t understand\n"
     ]
    }
   ],
   "source": [
    "response = model(\"Once upon a time, \")"
   ]
  }
 ],
 "metadata": {
  "kernelspec": {
   "display_name": "Python 3 (ipykernel)",
   "language": "python",
   "name": "python3"
  },
  "language_info": {
   "codemirror_mode": {
    "name": "ipython",
    "version": 3
   },
   "file_extension": ".py",
   "mimetype": "text/x-python",
   "name": "python",
   "nbconvert_exporter": "python",
   "pygments_lexer": "ipython3",
   "version": "3.9.6"
  }
 },
 "nbformat": 4,
 "nbformat_minor": 5
}
