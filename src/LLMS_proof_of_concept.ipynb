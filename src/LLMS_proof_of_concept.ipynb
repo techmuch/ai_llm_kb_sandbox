{
 "cells": [
  {
   "cell_type": "markdown",
   "id": "afd68018",
   "metadata": {},
   "source": [
    "# Proof of Concept (PoC)\n",
    "\n",
    "The PoC can be divided into to parts:\n",
    "- Use LLM to read a document and create a knowledge model\n",
    "- Use LLM to interpret a human request and utilize a knowledge model in response\n",
    "\n",
    "## Reading a document and building a knowledge model\n"
   ]
  },
  {
   "cell_type": "markdown",
   "id": "a9016639",
   "metadata": {
    "tags": []
   },
   "source": [
    "#### Prerequisites\n",
    "\n",
    "This notebook requires the following libraries:\n",
    " - langchain\n",
    " - openai\n",
    " - google-search-results"
   ]
  },
  {
   "cell_type": "code",
   "execution_count": 2,
   "id": "9f549083",
   "metadata": {
    "tags": []
   },
   "outputs": [
    {
     "ename": "ModuleNotFoundError",
     "evalue": "No module named 'flint_graph'",
     "output_type": "error",
     "traceback": [
      "\u001b[0;31m---------------------------------------------------------------------------\u001b[0m",
      "\u001b[0;31mModuleNotFoundError\u001b[0m                       Traceback (most recent call last)",
      "Cell \u001b[0;32mIn[2], line 7\u001b[0m\n\u001b[1;32m      5\u001b[0m \u001b[38;5;28;01mimport\u001b[39;00m \u001b[38;5;21;01myaml\u001b[39;00m\n\u001b[1;32m      6\u001b[0m \u001b[38;5;28;01mimport\u001b[39;00m \u001b[38;5;21;01mre\u001b[39;00m\n\u001b[0;32m----> 7\u001b[0m \u001b[38;5;28;01mfrom\u001b[39;00m \u001b[38;5;21;01mflint_graph\u001b[39;00m \u001b[38;5;28;01mimport\u001b[39;00m graph\n",
      "\u001b[0;31mModuleNotFoundError\u001b[0m: No module named 'flint_graph'"
     ]
    }
   ],
   "source": [
    "import os\n",
    "from langchain.prompts import PromptTemplate\n",
    "from langchain.llms import OpenAI, GPT4All\n",
    "from langchain.chains import LLMChain\n",
    "import yaml\n",
    "import re"
   ]
  },
  {
   "cell_type": "code",
   "execution_count": 2,
   "id": "597e8d8f",
   "metadata": {
    "tags": []
   },
   "outputs": [],
   "source": [
    "# set prompt template\n",
    "with open('LLMS_prompt_template.txt', 'r') as f:\n",
    "    network_model_prompt_template = f.read()\n",
    "\n",
    "network_model_parser_prompt = PromptTemplate(\n",
    "    input_variables=[\"input_text\"],\n",
    "    template_format=\"jinja2\",\n",
    "    template=network_model_prompt_template,)"
   ]
  },
  {
   "cell_type": "code",
   "execution_count": 3,
   "id": "db968385",
   "metadata": {
    "tags": []
   },
   "outputs": [],
   "source": [
    "# English description of equipment and how they are connected to each other\n",
    "with open('LLMS_input_text.txt', 'r') as f:\n",
    "    input_text = f.read()"
   ]
  },
  {
   "cell_type": "code",
   "execution_count": 4,
   "id": "4d91d9b3",
   "metadata": {},
   "outputs": [],
   "source": [
    "# network_model_parser_prompt.format(input_text=input_text)"
   ]
  },
  {
   "cell_type": "code",
   "execution_count": 5,
   "id": "a9cc18bb",
   "metadata": {
    "tags": []
   },
   "outputs": [],
   "source": [
    "# Create LLM and Chain instances\n",
    "llm = OpenAI(temperature=0.9)\n",
    "chain = LLMChain(llm=llm, prompt=network_model_parser_prompt)"
   ]
  },
  {
   "cell_type": "code",
   "execution_count": 6,
   "id": "519ad97f",
   "metadata": {
    "tags": []
   },
   "outputs": [],
   "source": [
    "# Run chain and receive results\n",
    "yaml_string = chain.run(input_text)"
   ]
  },
  {
   "cell_type": "code",
   "execution_count": 7,
   "id": "fdf135d7",
   "metadata": {},
   "outputs": [
    {
     "name": "stdout",
     "output_type": "stream",
     "text": [
      "\n",
      "\n",
      "[Output]\n",
      "```\n",
      "nodes:\n",
      "  - access_point_1\n",
      "  - access_point_2\n",
      "  - access_point_3\n",
      "  - managed_switch\n",
      "  - network_gateway\n",
      "  - network_modem\n",
      "  - network_management_device\n",
      "  - DNS_server\n",
      "  - network_monitoring_device\n",
      "  - laptop\n",
      "edges:\n",
      "  - {source: access_point_1, target: managed_switch}\n",
      "  - {source: access_point_2, target: managed_switch}\n",
      "  - {source: access_point_3, target: managed_switch}\n",
      "  - {source: managed_switch, target: network_gateway}\n",
      "  - {source: network_gateway, target: network_modem}\n",
      "  - {source: managed_switch, target: network_management_device}\n",
      "  - {source: managed_switch, target: DNS_server}\n",
      "  - {source: managed_switch, target: network_monitoring_device}\n",
      "  - {source: access_point_3, target: laptop}\n",
      "```\n"
     ]
    }
   ],
   "source": [
    "print(yaml_string)"
   ]
  },
  {
   "cell_type": "code",
   "execution_count": 8,
   "id": "ea0b8ce8",
   "metadata": {
    "tags": []
   },
   "outputs": [],
   "source": [
    "# Pull YAML from code fence\n",
    "pattern = re.compile(\"(?:```\\n)([\\s\\S]*)(?:```)\")\n",
    "match = pattern.search(yaml_string)\n",
    "yaml_string = match[match.lastindex]\n",
    "nodes_edges = yaml.load(yaml_string, Loader=yaml.FullLoader)"
   ]
  },
  {
   "cell_type": "code",
   "execution_count": 9,
   "id": "f59de89f",
   "metadata": {},
   "outputs": [],
   "source": [
    "x = graph.graph(default_tags=['Home_Network'])"
   ]
  },
  {
   "cell_type": "code",
   "execution_count": 10,
   "id": "f09a8f1c",
   "metadata": {},
   "outputs": [],
   "source": [
    "for node in nodes_edges[\"nodes\"]:\n",
    "    x.add_node(node, views=['all'])"
   ]
  },
  {
   "cell_type": "code",
   "execution_count": 11,
   "id": "38dec0de",
   "metadata": {},
   "outputs": [],
   "source": [
    "index = x.index(\"nodes\", by=\"label\")\n",
    "for edge in nodes_edges[\"edges\"]:\n",
    "    x.add_edge(index[edge['source']]['id'], index[edge['target']]['id'])"
   ]
  },
  {
   "cell_type": "code",
   "execution_count": 12,
   "id": "e9d22c11",
   "metadata": {},
   "outputs": [
    {
     "data": {
      "image/svg+xml": [
       "<?xml version=\"1.0\" encoding=\"UTF-8\" standalone=\"no\"?>\n",
       "<!DOCTYPE svg PUBLIC \"-//W3C//DTD SVG 1.1//EN\"\n",
       " \"http://www.w3.org/Graphics/SVG/1.1/DTD/svg11.dtd\">\n",
       "<!-- Generated by graphviz version 2.47.0 (20210327.0129)\n",
       " -->\n",
       "<!-- Pages: 1 -->\n",
       "<svg width=\"962pt\" height=\"260pt\"\n",
       " viewBox=\"0.00 0.00 962.33 260.00\" xmlns=\"http://www.w3.org/2000/svg\" xmlns:xlink=\"http://www.w3.org/1999/xlink\">\n",
       "<g id=\"graph0\" class=\"graph\" transform=\"scale(1 1) rotate(0) translate(4 256)\">\n",
       "<polygon fill=\"white\" stroke=\"transparent\" points=\"-4,4 -4,-256 958.33,-256 958.33,4 -4,4\"/>\n",
       "<!-- b8e772a4&#45;35d5&#45;4468&#45;9045&#45;6260356732fa -->\n",
       "<g id=\"node1\" class=\"node\">\n",
       "<title>b8e772a4&#45;35d5&#45;4468&#45;9045&#45;6260356732fa</title>\n",
       "<ellipse fill=\"lightblue\" stroke=\"lightblue\" cx=\"293.59\" cy=\"-234\" rx=\"81.49\" ry=\"18\"/>\n",
       "<text text-anchor=\"middle\" x=\"293.59\" y=\"-230.3\" font-family=\"Times-Roman\" font-size=\"14.00\">access_point_1</text>\n",
       "</g>\n",
       "<!-- f4a3ef82&#45;67da&#45;49d6&#45;b447&#45;c2d08a46e41e -->\n",
       "<g id=\"node4\" class=\"node\">\n",
       "<title>f4a3ef82&#45;67da&#45;49d6&#45;b447&#45;c2d08a46e41e</title>\n",
       "<ellipse fill=\"lightblue\" stroke=\"lightblue\" cx=\"473.59\" cy=\"-162\" rx=\"89.08\" ry=\"18\"/>\n",
       "<text text-anchor=\"middle\" x=\"473.59\" y=\"-158.3\" font-family=\"Times-Roman\" font-size=\"14.00\">managed_switch</text>\n",
       "</g>\n",
       "<!-- b8e772a4&#45;35d5&#45;4468&#45;9045&#45;6260356732fa&#45;&gt;f4a3ef82&#45;67da&#45;49d6&#45;b447&#45;c2d08a46e41e -->\n",
       "<g id=\"edge1\" class=\"edge\">\n",
       "<title>b8e772a4&#45;35d5&#45;4468&#45;9045&#45;6260356732fa&#45;&gt;f4a3ef82&#45;67da&#45;49d6&#45;b447&#45;c2d08a46e41e</title>\n",
       "<path fill=\"none\" stroke=\"black\" d=\"M332.21,-217.98C359.31,-207.44 395.75,-193.27 424.86,-181.95\"/>\n",
       "<polygon fill=\"black\" stroke=\"black\" points=\"426.37,-185.12 434.42,-178.23 423.83,-178.6 426.37,-185.12\"/>\n",
       "</g>\n",
       "<!-- af21c403&#45;b4a8&#45;4794&#45;80b7&#45;5e9bf6d33f47 -->\n",
       "<g id=\"node2\" class=\"node\">\n",
       "<title>af21c403&#45;b4a8&#45;4794&#45;80b7&#45;5e9bf6d33f47</title>\n",
       "<ellipse fill=\"lightblue\" stroke=\"lightblue\" cx=\"473.59\" cy=\"-234\" rx=\"81.49\" ry=\"18\"/>\n",
       "<text text-anchor=\"middle\" x=\"473.59\" y=\"-230.3\" font-family=\"Times-Roman\" font-size=\"14.00\">access_point_2</text>\n",
       "</g>\n",
       "<!-- af21c403&#45;b4a8&#45;4794&#45;80b7&#45;5e9bf6d33f47&#45;&gt;f4a3ef82&#45;67da&#45;49d6&#45;b447&#45;c2d08a46e41e -->\n",
       "<g id=\"edge2\" class=\"edge\">\n",
       "<title>af21c403&#45;b4a8&#45;4794&#45;80b7&#45;5e9bf6d33f47&#45;&gt;f4a3ef82&#45;67da&#45;49d6&#45;b447&#45;c2d08a46e41e</title>\n",
       "<path fill=\"none\" stroke=\"black\" d=\"M473.59,-215.7C473.59,-207.98 473.59,-198.71 473.59,-190.11\"/>\n",
       "<polygon fill=\"black\" stroke=\"black\" points=\"477.09,-190.1 473.59,-180.1 470.09,-190.1 477.09,-190.1\"/>\n",
       "</g>\n",
       "<!-- 1daf7f09&#45;3505&#45;4903&#45;9c69&#45;49e51d2d91f7 -->\n",
       "<g id=\"node3\" class=\"node\">\n",
       "<title>1daf7f09&#45;3505&#45;4903&#45;9c69&#45;49e51d2d91f7</title>\n",
       "<ellipse fill=\"lightblue\" stroke=\"lightblue\" cx=\"653.59\" cy=\"-234\" rx=\"81.49\" ry=\"18\"/>\n",
       "<text text-anchor=\"middle\" x=\"653.59\" y=\"-230.3\" font-family=\"Times-Roman\" font-size=\"14.00\">access_point_3</text>\n",
       "</g>\n",
       "<!-- 1daf7f09&#45;3505&#45;4903&#45;9c69&#45;49e51d2d91f7&#45;&gt;f4a3ef82&#45;67da&#45;49d6&#45;b447&#45;c2d08a46e41e -->\n",
       "<g id=\"edge3\" class=\"edge\">\n",
       "<title>1daf7f09&#45;3505&#45;4903&#45;9c69&#45;49e51d2d91f7&#45;&gt;f4a3ef82&#45;67da&#45;49d6&#45;b447&#45;c2d08a46e41e</title>\n",
       "<path fill=\"none\" stroke=\"black\" d=\"M614.98,-217.98C587.88,-207.44 551.43,-193.27 522.33,-181.95\"/>\n",
       "<polygon fill=\"black\" stroke=\"black\" points=\"523.35,-178.6 512.76,-178.23 520.81,-185.12 523.35,-178.6\"/>\n",
       "</g>\n",
       "<!-- 87a4b29f&#45;36db&#45;4031&#45;be58&#45;0f8ea4530408 -->\n",
       "<g id=\"node10\" class=\"node\">\n",
       "<title>87a4b29f&#45;36db&#45;4031&#45;be58&#45;0f8ea4530408</title>\n",
       "<ellipse fill=\"lightblue\" stroke=\"lightblue\" cx=\"653.59\" cy=\"-162\" rx=\"40.09\" ry=\"18\"/>\n",
       "<text text-anchor=\"middle\" x=\"653.59\" y=\"-158.3\" font-family=\"Times-Roman\" font-size=\"14.00\">laptop</text>\n",
       "</g>\n",
       "<!-- 1daf7f09&#45;3505&#45;4903&#45;9c69&#45;49e51d2d91f7&#45;&gt;87a4b29f&#45;36db&#45;4031&#45;be58&#45;0f8ea4530408 -->\n",
       "<g id=\"edge9\" class=\"edge\">\n",
       "<title>1daf7f09&#45;3505&#45;4903&#45;9c69&#45;49e51d2d91f7&#45;&gt;87a4b29f&#45;36db&#45;4031&#45;be58&#45;0f8ea4530408</title>\n",
       "<path fill=\"none\" stroke=\"black\" d=\"M653.59,-215.7C653.59,-207.98 653.59,-198.71 653.59,-190.11\"/>\n",
       "<polygon fill=\"black\" stroke=\"black\" points=\"657.09,-190.1 653.59,-180.1 650.09,-190.1 657.09,-190.1\"/>\n",
       "</g>\n",
       "<!-- 247adbbe&#45;8b94&#45;4e03&#45;892a&#45;6e98e249ccce -->\n",
       "<g id=\"node5\" class=\"node\">\n",
       "<title>247adbbe&#45;8b94&#45;4e03&#45;892a&#45;6e98e249ccce</title>\n",
       "<ellipse fill=\"lightblue\" stroke=\"lightblue\" cx=\"93.59\" cy=\"-90\" rx=\"93.68\" ry=\"18\"/>\n",
       "<text text-anchor=\"middle\" x=\"93.59\" y=\"-86.3\" font-family=\"Times-Roman\" font-size=\"14.00\">network_gateway</text>\n",
       "</g>\n",
       "<!-- f4a3ef82&#45;67da&#45;49d6&#45;b447&#45;c2d08a46e41e&#45;&gt;247adbbe&#45;8b94&#45;4e03&#45;892a&#45;6e98e249ccce -->\n",
       "<g id=\"edge4\" class=\"edge\">\n",
       "<title>f4a3ef82&#45;67da&#45;49d6&#45;b447&#45;c2d08a46e41e&#45;&gt;247adbbe&#45;8b94&#45;4e03&#45;892a&#45;6e98e249ccce</title>\n",
       "<path fill=\"none\" stroke=\"black\" d=\"M409.99,-149.28C343.53,-137.04 239.32,-117.85 168.82,-104.86\"/>\n",
       "<polygon fill=\"black\" stroke=\"black\" points=\"169.15,-101.36 158.68,-102.99 167.88,-108.24 169.15,-101.36\"/>\n",
       "</g>\n",
       "<!-- 67b24d4d&#45;4f94&#45;4365&#45;b907&#45;6320e63a1b5a -->\n",
       "<g id=\"node7\" class=\"node\">\n",
       "<title>67b24d4d&#45;4f94&#45;4365&#45;b907&#45;6320e63a1b5a</title>\n",
       "<ellipse fill=\"lightblue\" stroke=\"lightblue\" cx=\"356.59\" cy=\"-90\" rx=\"151.37\" ry=\"18\"/>\n",
       "<text text-anchor=\"middle\" x=\"356.59\" y=\"-86.3\" font-family=\"Times-Roman\" font-size=\"14.00\">network_management_device</text>\n",
       "</g>\n",
       "<!-- f4a3ef82&#45;67da&#45;49d6&#45;b447&#45;c2d08a46e41e&#45;&gt;67b24d4d&#45;4f94&#45;4365&#45;b907&#45;6320e63a1b5a -->\n",
       "<g id=\"edge6\" class=\"edge\">\n",
       "<title>f4a3ef82&#45;67da&#45;49d6&#45;b447&#45;c2d08a46e41e&#45;&gt;67b24d4d&#45;4f94&#45;4365&#45;b907&#45;6320e63a1b5a</title>\n",
       "<path fill=\"none\" stroke=\"black\" d=\"M446.46,-144.76C430.7,-135.34 410.65,-123.34 393.48,-113.07\"/>\n",
       "<polygon fill=\"black\" stroke=\"black\" points=\"395.18,-110.01 384.8,-107.88 391.59,-116.02 395.18,-110.01\"/>\n",
       "</g>\n",
       "<!-- fd09794d&#45;d84f&#45;4083&#45;8d6f&#45;7868baa57a40 -->\n",
       "<g id=\"node8\" class=\"node\">\n",
       "<title>fd09794d&#45;d84f&#45;4083&#45;8d6f&#45;7868baa57a40</title>\n",
       "<ellipse fill=\"lightblue\" stroke=\"lightblue\" cx=\"591.59\" cy=\"-90\" rx=\"65.79\" ry=\"18\"/>\n",
       "<text text-anchor=\"middle\" x=\"591.59\" y=\"-86.3\" font-family=\"Times-Roman\" font-size=\"14.00\">DNS_server</text>\n",
       "</g>\n",
       "<!-- f4a3ef82&#45;67da&#45;49d6&#45;b447&#45;c2d08a46e41e&#45;&gt;fd09794d&#45;d84f&#45;4083&#45;8d6f&#45;7868baa57a40 -->\n",
       "<g id=\"edge7\" class=\"edge\">\n",
       "<title>f4a3ef82&#45;67da&#45;49d6&#45;b447&#45;c2d08a46e41e&#45;&gt;fd09794d&#45;d84f&#45;4083&#45;8d6f&#45;7868baa57a40</title>\n",
       "<path fill=\"none\" stroke=\"black\" d=\"M500.96,-144.76C517.43,-135 538.56,-122.46 556.27,-111.95\"/>\n",
       "<polygon fill=\"black\" stroke=\"black\" points=\"558.37,-114.78 565.18,-106.67 554.8,-108.76 558.37,-114.78\"/>\n",
       "</g>\n",
       "<!-- 837ea1b2&#45;553c&#45;46a0&#45;a2c3&#45;66ab42c147a3 -->\n",
       "<g id=\"node9\" class=\"node\">\n",
       "<title>837ea1b2&#45;553c&#45;46a0&#45;a2c3&#45;66ab42c147a3</title>\n",
       "<ellipse fill=\"lightblue\" stroke=\"lightblue\" cx=\"814.59\" cy=\"-90\" rx=\"139.98\" ry=\"18\"/>\n",
       "<text text-anchor=\"middle\" x=\"814.59\" y=\"-86.3\" font-family=\"Times-Roman\" font-size=\"14.00\">network_monitoring_device</text>\n",
       "</g>\n",
       "<!-- f4a3ef82&#45;67da&#45;49d6&#45;b447&#45;c2d08a46e41e&#45;&gt;837ea1b2&#45;553c&#45;46a0&#45;a2c3&#45;66ab42c147a3 -->\n",
       "<g id=\"edge8\" class=\"edge\">\n",
       "<title>f4a3ef82&#45;67da&#45;49d6&#45;b447&#45;c2d08a46e41e&#45;&gt;837ea1b2&#45;553c&#45;46a0&#45;a2c3&#45;66ab42c147a3</title>\n",
       "<path fill=\"none\" stroke=\"black\" d=\"M533.77,-148.65C589.37,-137.23 672.41,-120.19 733.78,-107.59\"/>\n",
       "<polygon fill=\"black\" stroke=\"black\" points=\"734.72,-110.97 743.81,-105.53 733.32,-104.11 734.72,-110.97\"/>\n",
       "</g>\n",
       "<!-- 5a9d4173&#45;6f62&#45;46dc&#45;847c&#45;6af5677baab3 -->\n",
       "<g id=\"node6\" class=\"node\">\n",
       "<title>5a9d4173&#45;6f62&#45;46dc&#45;847c&#45;6af5677baab3</title>\n",
       "<ellipse fill=\"lightblue\" stroke=\"lightblue\" cx=\"93.59\" cy=\"-18\" rx=\"89.88\" ry=\"18\"/>\n",
       "<text text-anchor=\"middle\" x=\"93.59\" y=\"-14.3\" font-family=\"Times-Roman\" font-size=\"14.00\">network_modem</text>\n",
       "</g>\n",
       "<!-- 247adbbe&#45;8b94&#45;4e03&#45;892a&#45;6e98e249ccce&#45;&gt;5a9d4173&#45;6f62&#45;46dc&#45;847c&#45;6af5677baab3 -->\n",
       "<g id=\"edge5\" class=\"edge\">\n",
       "<title>247adbbe&#45;8b94&#45;4e03&#45;892a&#45;6e98e249ccce&#45;&gt;5a9d4173&#45;6f62&#45;46dc&#45;847c&#45;6af5677baab3</title>\n",
       "<path fill=\"none\" stroke=\"black\" d=\"M93.59,-71.7C93.59,-63.98 93.59,-54.71 93.59,-46.11\"/>\n",
       "<polygon fill=\"black\" stroke=\"black\" points=\"97.09,-46.1 93.59,-36.1 90.09,-46.1 97.09,-46.1\"/>\n",
       "</g>\n",
       "</g>\n",
       "</svg>\n"
      ],
      "text/plain": [
       "<graphviz.dot.Digraph at 0x7f3208ebd7f0>"
      ]
     },
     "execution_count": 12,
     "metadata": {},
     "output_type": "execute_result"
    }
   ],
   "source": [
    "x.show_graph()"
   ]
  },
  {
   "cell_type": "code",
   "execution_count": 16,
   "id": "eba26e8e",
   "metadata": {},
   "outputs": [
    {
     "data": {
      "image/svg+xml": [
       "<?xml version=\"1.0\" encoding=\"UTF-8\" standalone=\"no\"?>\n",
       "<!DOCTYPE svg PUBLIC \"-//W3C//DTD SVG 1.1//EN\"\n",
       " \"http://www.w3.org/Graphics/SVG/1.1/DTD/svg11.dtd\">\n",
       "<!-- Generated by graphviz version 2.47.0 (20210327.0129)\n",
       " -->\n",
       "<!-- Pages: 1 -->\n",
       "<svg width=\"432pt\" height=\"117pt\"\n",
       " viewBox=\"0.00 0.00 432.00 116.72\" xmlns=\"http://www.w3.org/2000/svg\" xmlns:xlink=\"http://www.w3.org/1999/xlink\">\n",
       "<g id=\"graph0\" class=\"graph\" transform=\"scale(0.45 0.45) rotate(0) translate(4 256)\">\n",
       "<polygon fill=\"white\" stroke=\"transparent\" points=\"-4,4 -4,-256 958.33,-256 958.33,4 -4,4\"/>\n",
       "<!-- b8e772a4&#45;35d5&#45;4468&#45;9045&#45;6260356732fa -->\n",
       "<g id=\"node1\" class=\"node\">\n",
       "<title>b8e772a4&#45;35d5&#45;4468&#45;9045&#45;6260356732fa</title>\n",
       "<ellipse fill=\"lightblue\" stroke=\"lightblue\" cx=\"293.59\" cy=\"-234\" rx=\"81.49\" ry=\"18\"/>\n",
       "<text text-anchor=\"middle\" x=\"293.59\" y=\"-230.3\" font-family=\"Times-Roman\" font-size=\"14.00\">access_point_1</text>\n",
       "</g>\n",
       "<!-- f4a3ef82&#45;67da&#45;49d6&#45;b447&#45;c2d08a46e41e -->\n",
       "<g id=\"node4\" class=\"node\">\n",
       "<title>f4a3ef82&#45;67da&#45;49d6&#45;b447&#45;c2d08a46e41e</title>\n",
       "<ellipse fill=\"lightblue\" stroke=\"lightblue\" cx=\"473.59\" cy=\"-162\" rx=\"89.08\" ry=\"18\"/>\n",
       "<text text-anchor=\"middle\" x=\"473.59\" y=\"-158.3\" font-family=\"Times-Roman\" font-size=\"14.00\">managed_switch</text>\n",
       "</g>\n",
       "<!-- b8e772a4&#45;35d5&#45;4468&#45;9045&#45;6260356732fa&#45;&gt;f4a3ef82&#45;67da&#45;49d6&#45;b447&#45;c2d08a46e41e -->\n",
       "<g id=\"edge1\" class=\"edge\">\n",
       "<title>b8e772a4&#45;35d5&#45;4468&#45;9045&#45;6260356732fa&#45;&gt;f4a3ef82&#45;67da&#45;49d6&#45;b447&#45;c2d08a46e41e</title>\n",
       "<path fill=\"none\" stroke=\"black\" d=\"M332.21,-217.98C359.31,-207.44 395.75,-193.27 424.86,-181.95\"/>\n",
       "<polygon fill=\"black\" stroke=\"black\" points=\"426.37,-185.12 434.42,-178.23 423.83,-178.6 426.37,-185.12\"/>\n",
       "</g>\n",
       "<!-- af21c403&#45;b4a8&#45;4794&#45;80b7&#45;5e9bf6d33f47 -->\n",
       "<g id=\"node2\" class=\"node\">\n",
       "<title>af21c403&#45;b4a8&#45;4794&#45;80b7&#45;5e9bf6d33f47</title>\n",
       "<ellipse fill=\"lightblue\" stroke=\"lightblue\" cx=\"473.59\" cy=\"-234\" rx=\"81.49\" ry=\"18\"/>\n",
       "<text text-anchor=\"middle\" x=\"473.59\" y=\"-230.3\" font-family=\"Times-Roman\" font-size=\"14.00\">access_point_2</text>\n",
       "</g>\n",
       "<!-- af21c403&#45;b4a8&#45;4794&#45;80b7&#45;5e9bf6d33f47&#45;&gt;f4a3ef82&#45;67da&#45;49d6&#45;b447&#45;c2d08a46e41e -->\n",
       "<g id=\"edge2\" class=\"edge\">\n",
       "<title>af21c403&#45;b4a8&#45;4794&#45;80b7&#45;5e9bf6d33f47&#45;&gt;f4a3ef82&#45;67da&#45;49d6&#45;b447&#45;c2d08a46e41e</title>\n",
       "<path fill=\"none\" stroke=\"black\" d=\"M473.59,-215.7C473.59,-207.98 473.59,-198.71 473.59,-190.11\"/>\n",
       "<polygon fill=\"black\" stroke=\"black\" points=\"477.09,-190.1 473.59,-180.1 470.09,-190.1 477.09,-190.1\"/>\n",
       "</g>\n",
       "<!-- 1daf7f09&#45;3505&#45;4903&#45;9c69&#45;49e51d2d91f7 -->\n",
       "<g id=\"node3\" class=\"node\">\n",
       "<title>1daf7f09&#45;3505&#45;4903&#45;9c69&#45;49e51d2d91f7</title>\n",
       "<ellipse fill=\"lightblue\" stroke=\"lightblue\" cx=\"653.59\" cy=\"-234\" rx=\"81.49\" ry=\"18\"/>\n",
       "<text text-anchor=\"middle\" x=\"653.59\" y=\"-230.3\" font-family=\"Times-Roman\" font-size=\"14.00\">access_point_3</text>\n",
       "</g>\n",
       "<!-- 1daf7f09&#45;3505&#45;4903&#45;9c69&#45;49e51d2d91f7&#45;&gt;f4a3ef82&#45;67da&#45;49d6&#45;b447&#45;c2d08a46e41e -->\n",
       "<g id=\"edge3\" class=\"edge\">\n",
       "<title>1daf7f09&#45;3505&#45;4903&#45;9c69&#45;49e51d2d91f7&#45;&gt;f4a3ef82&#45;67da&#45;49d6&#45;b447&#45;c2d08a46e41e</title>\n",
       "<path fill=\"none\" stroke=\"black\" d=\"M614.98,-217.98C587.88,-207.44 551.43,-193.27 522.33,-181.95\"/>\n",
       "<polygon fill=\"black\" stroke=\"black\" points=\"523.35,-178.6 512.76,-178.23 520.81,-185.12 523.35,-178.6\"/>\n",
       "</g>\n",
       "<!-- 87a4b29f&#45;36db&#45;4031&#45;be58&#45;0f8ea4530408 -->\n",
       "<g id=\"node10\" class=\"node\">\n",
       "<title>87a4b29f&#45;36db&#45;4031&#45;be58&#45;0f8ea4530408</title>\n",
       "<ellipse fill=\"lightblue\" stroke=\"lightblue\" cx=\"653.59\" cy=\"-162\" rx=\"40.09\" ry=\"18\"/>\n",
       "<text text-anchor=\"middle\" x=\"653.59\" y=\"-158.3\" font-family=\"Times-Roman\" font-size=\"14.00\">laptop</text>\n",
       "</g>\n",
       "<!-- 1daf7f09&#45;3505&#45;4903&#45;9c69&#45;49e51d2d91f7&#45;&gt;87a4b29f&#45;36db&#45;4031&#45;be58&#45;0f8ea4530408 -->\n",
       "<g id=\"edge9\" class=\"edge\">\n",
       "<title>1daf7f09&#45;3505&#45;4903&#45;9c69&#45;49e51d2d91f7&#45;&gt;87a4b29f&#45;36db&#45;4031&#45;be58&#45;0f8ea4530408</title>\n",
       "<path fill=\"none\" stroke=\"black\" d=\"M653.59,-215.7C653.59,-207.98 653.59,-198.71 653.59,-190.11\"/>\n",
       "<polygon fill=\"black\" stroke=\"black\" points=\"657.09,-190.1 653.59,-180.1 650.09,-190.1 657.09,-190.1\"/>\n",
       "</g>\n",
       "<!-- 247adbbe&#45;8b94&#45;4e03&#45;892a&#45;6e98e249ccce -->\n",
       "<g id=\"node5\" class=\"node\">\n",
       "<title>247adbbe&#45;8b94&#45;4e03&#45;892a&#45;6e98e249ccce</title>\n",
       "<ellipse fill=\"lightblue\" stroke=\"lightblue\" cx=\"93.59\" cy=\"-90\" rx=\"93.68\" ry=\"18\"/>\n",
       "<text text-anchor=\"middle\" x=\"93.59\" y=\"-86.3\" font-family=\"Times-Roman\" font-size=\"14.00\">network_gateway</text>\n",
       "</g>\n",
       "<!-- f4a3ef82&#45;67da&#45;49d6&#45;b447&#45;c2d08a46e41e&#45;&gt;247adbbe&#45;8b94&#45;4e03&#45;892a&#45;6e98e249ccce -->\n",
       "<g id=\"edge4\" class=\"edge\">\n",
       "<title>f4a3ef82&#45;67da&#45;49d6&#45;b447&#45;c2d08a46e41e&#45;&gt;247adbbe&#45;8b94&#45;4e03&#45;892a&#45;6e98e249ccce</title>\n",
       "<path fill=\"none\" stroke=\"black\" d=\"M409.99,-149.28C343.53,-137.04 239.32,-117.85 168.82,-104.86\"/>\n",
       "<polygon fill=\"black\" stroke=\"black\" points=\"169.15,-101.36 158.68,-102.99 167.88,-108.24 169.15,-101.36\"/>\n",
       "</g>\n",
       "<!-- 67b24d4d&#45;4f94&#45;4365&#45;b907&#45;6320e63a1b5a -->\n",
       "<g id=\"node7\" class=\"node\">\n",
       "<title>67b24d4d&#45;4f94&#45;4365&#45;b907&#45;6320e63a1b5a</title>\n",
       "<ellipse fill=\"lightblue\" stroke=\"lightblue\" cx=\"356.59\" cy=\"-90\" rx=\"151.37\" ry=\"18\"/>\n",
       "<text text-anchor=\"middle\" x=\"356.59\" y=\"-86.3\" font-family=\"Times-Roman\" font-size=\"14.00\">network_management_device</text>\n",
       "</g>\n",
       "<!-- f4a3ef82&#45;67da&#45;49d6&#45;b447&#45;c2d08a46e41e&#45;&gt;67b24d4d&#45;4f94&#45;4365&#45;b907&#45;6320e63a1b5a -->\n",
       "<g id=\"edge6\" class=\"edge\">\n",
       "<title>f4a3ef82&#45;67da&#45;49d6&#45;b447&#45;c2d08a46e41e&#45;&gt;67b24d4d&#45;4f94&#45;4365&#45;b907&#45;6320e63a1b5a</title>\n",
       "<path fill=\"none\" stroke=\"black\" d=\"M446.46,-144.76C430.7,-135.34 410.65,-123.34 393.48,-113.07\"/>\n",
       "<polygon fill=\"black\" stroke=\"black\" points=\"395.18,-110.01 384.8,-107.88 391.59,-116.02 395.18,-110.01\"/>\n",
       "</g>\n",
       "<!-- fd09794d&#45;d84f&#45;4083&#45;8d6f&#45;7868baa57a40 -->\n",
       "<g id=\"node8\" class=\"node\">\n",
       "<title>fd09794d&#45;d84f&#45;4083&#45;8d6f&#45;7868baa57a40</title>\n",
       "<ellipse fill=\"lightblue\" stroke=\"lightblue\" cx=\"591.59\" cy=\"-90\" rx=\"65.79\" ry=\"18\"/>\n",
       "<text text-anchor=\"middle\" x=\"591.59\" y=\"-86.3\" font-family=\"Times-Roman\" font-size=\"14.00\">DNS_server</text>\n",
       "</g>\n",
       "<!-- f4a3ef82&#45;67da&#45;49d6&#45;b447&#45;c2d08a46e41e&#45;&gt;fd09794d&#45;d84f&#45;4083&#45;8d6f&#45;7868baa57a40 -->\n",
       "<g id=\"edge7\" class=\"edge\">\n",
       "<title>f4a3ef82&#45;67da&#45;49d6&#45;b447&#45;c2d08a46e41e&#45;&gt;fd09794d&#45;d84f&#45;4083&#45;8d6f&#45;7868baa57a40</title>\n",
       "<path fill=\"none\" stroke=\"black\" d=\"M500.96,-144.76C517.43,-135 538.56,-122.46 556.27,-111.95\"/>\n",
       "<polygon fill=\"black\" stroke=\"black\" points=\"558.37,-114.78 565.18,-106.67 554.8,-108.76 558.37,-114.78\"/>\n",
       "</g>\n",
       "<!-- 837ea1b2&#45;553c&#45;46a0&#45;a2c3&#45;66ab42c147a3 -->\n",
       "<g id=\"node9\" class=\"node\">\n",
       "<title>837ea1b2&#45;553c&#45;46a0&#45;a2c3&#45;66ab42c147a3</title>\n",
       "<ellipse fill=\"lightblue\" stroke=\"lightblue\" cx=\"814.59\" cy=\"-90\" rx=\"139.98\" ry=\"18\"/>\n",
       "<text text-anchor=\"middle\" x=\"814.59\" y=\"-86.3\" font-family=\"Times-Roman\" font-size=\"14.00\">network_monitoring_device</text>\n",
       "</g>\n",
       "<!-- f4a3ef82&#45;67da&#45;49d6&#45;b447&#45;c2d08a46e41e&#45;&gt;837ea1b2&#45;553c&#45;46a0&#45;a2c3&#45;66ab42c147a3 -->\n",
       "<g id=\"edge8\" class=\"edge\">\n",
       "<title>f4a3ef82&#45;67da&#45;49d6&#45;b447&#45;c2d08a46e41e&#45;&gt;837ea1b2&#45;553c&#45;46a0&#45;a2c3&#45;66ab42c147a3</title>\n",
       "<path fill=\"none\" stroke=\"black\" d=\"M533.77,-148.65C589.37,-137.23 672.41,-120.19 733.78,-107.59\"/>\n",
       "<polygon fill=\"black\" stroke=\"black\" points=\"734.72,-110.97 743.81,-105.53 733.32,-104.11 734.72,-110.97\"/>\n",
       "</g>\n",
       "<!-- 5a9d4173&#45;6f62&#45;46dc&#45;847c&#45;6af5677baab3 -->\n",
       "<g id=\"node6\" class=\"node\">\n",
       "<title>5a9d4173&#45;6f62&#45;46dc&#45;847c&#45;6af5677baab3</title>\n",
       "<ellipse fill=\"lightblue\" stroke=\"lightblue\" cx=\"93.59\" cy=\"-18\" rx=\"89.88\" ry=\"18\"/>\n",
       "<text text-anchor=\"middle\" x=\"93.59\" y=\"-14.3\" font-family=\"Times-Roman\" font-size=\"14.00\">network_modem</text>\n",
       "</g>\n",
       "<!-- 247adbbe&#45;8b94&#45;4e03&#45;892a&#45;6e98e249ccce&#45;&gt;5a9d4173&#45;6f62&#45;46dc&#45;847c&#45;6af5677baab3 -->\n",
       "<g id=\"edge5\" class=\"edge\">\n",
       "<title>247adbbe&#45;8b94&#45;4e03&#45;892a&#45;6e98e249ccce&#45;&gt;5a9d4173&#45;6f62&#45;46dc&#45;847c&#45;6af5677baab3</title>\n",
       "<path fill=\"none\" stroke=\"black\" d=\"M93.59,-71.7C93.59,-63.98 93.59,-54.71 93.59,-46.11\"/>\n",
       "<polygon fill=\"black\" stroke=\"black\" points=\"97.09,-46.1 93.59,-36.1 90.09,-46.1 97.09,-46.1\"/>\n",
       "</g>\n",
       "</g>\n",
       "</svg>\n"
      ],
      "text/plain": [
       "<graphviz.dot.Digraph at 0x7f31d1b63bb0>"
      ]
     },
     "execution_count": 16,
     "metadata": {},
     "output_type": "execute_result"
    }
   ],
   "source": [
    "x.show_graph(size='6,20')"
   ]
  },
  {
   "cell_type": "code",
   "execution_count": null,
   "id": "36ddf143",
   "metadata": {},
   "outputs": [],
   "source": []
  }
 ],
 "metadata": {
  "kernelspec": {
   "display_name": "Python 3 (ipykernel)",
   "language": "python",
   "name": "python3"
  },
  "language_info": {
   "codemirror_mode": {
    "name": "ipython",
    "version": 3
   },
   "file_extension": ".py",
   "mimetype": "text/x-python",
   "name": "python",
   "nbconvert_exporter": "python",
   "pygments_lexer": "ipython3",
   "version": "3.9.6"
  }
 },
 "nbformat": 4,
 "nbformat_minor": 5
}
